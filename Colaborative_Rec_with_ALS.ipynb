{
  "cells": [
    {
      "cell_type": "markdown",
      "metadata": {},
      "source": [
        "# Movie Recommendation System using ALS (Alternating Least Squares)\n",
        "### Colabrative Filter : Alternating Least Squares\n",
        "- Overview\n",
        "This notebook implements a collaborative filtering recommendation system using the Alternating Least Squares (ALS) algorithm from PySpark's MLlib. The system recommends movies to users based on their past ratings and the ratings of similar users.\n",
        "\n",
        "#### Key Features\n",
        "- Dataset: Uses the MovieLens dataset (https://grouplens.org/datasets/movielens/)\n",
        "- Algorithm: ALS (Alternating Least Squares) for matrix factorization\n",
        "- Evaluation: RMSE (Root Mean Square Error) metric\n",
        "- Output: Provides top 10 movie recommendations for each user"
      ]
    },
    {
      "cell_type": "code",
      "execution_count": 1,
      "metadata": {
        "id": "OVQaeQE_Ng8t"
      },
      "outputs": [],
      "source": [
        "from pyspark.sql import SparkSession\n",
        "from pyspark.sql.functions import col, format_string, when\n",
        "from pyspark.ml.recommendation import ALS\n",
        "from pyspark.ml.evaluation import RegressionEvaluator\n",
        "import os"
      ]
    },
    {
      "cell_type": "markdown",
      "metadata": {
        "id": "bNOu9zfzazol"
      },
      "source": [
        "## Create Spark Session"
      ]
    },
    {
      "cell_type": "code",
      "execution_count": null,
      "metadata": {
        "id": "xNtnpX16OZKi"
      },
      "outputs": [],
      "source": [
        "# Create Spark session with 4GB memory allocation\n",
        "spark = SparkSession.builder.appName(\"MovieRecommandation\").config(\"spark.driver.memory\", \"4g\").getOrCreate()"
      ]
    },
    {
      "cell_type": "code",
      "execution_count": 3,
      "metadata": {
        "colab": {
          "base_uri": "https://localhost:8080/",
          "height": 36
        },
        "id": "Ekfol_k_PYhD",
        "outputId": "8999c5a1-49ea-4c35-809d-b5a1d6c12eff"
      },
      "outputs": [
        {
          "data": {
            "application/vnd.google.colaboratory.intrinsic+json": {
              "type": "string"
            },
            "text/plain": [
              "'3.5.1'"
            ]
          },
          "execution_count": 3,
          "metadata": {},
          "output_type": "execute_result"
        }
      ],
      "source": [
        "#Check Version\n",
        "spark.version"
      ]
    },
    {
      "cell_type": "markdown",
      "metadata": {
        "id": "QI2Ioelda4Kz"
      },
      "source": [
        "## Load the Dataset"
      ]
    },
    {
      "cell_type": "code",
      "execution_count": null,
      "metadata": {
        "id": "R78nH28YPfMQ"
      },
      "outputs": [],
      "source": [
        "df_path = r\"C:\\Users\\Pradeep\\Downloads\\ml-32m\"\n",
        "\n",
        "movies_df = spark.read.csv(os.path.join(df_path, \"movies.csv\"), inferSchema=True, header=True)\n",
        "ratings_df = spark.read.csv(os.path.join(df_path, \"ratings.csv\"), inferSchema=True, header=True)\n",
        "links_df = spark.read.csv(os.path.join(df_path, \"links.csv\"), inferSchema=True, header=True)"
      ]
    },
    {
      "cell_type": "markdown",
      "metadata": {
        "id": "wd1pnRRybGO2"
      },
      "source": [
        "## Explore the Data"
      ]
    },
    {
      "cell_type": "code",
      "execution_count": 5,
      "metadata": {
        "colab": {
          "base_uri": "https://localhost:8080/"
        },
        "id": "aMciGSf1bJM_",
        "outputId": "cc00cf46-b7ac-4444-ee2d-a032d3642a9b"
      },
      "outputs": [
        {
          "name": "stdout",
          "output_type": "stream",
          "text": [
            "Movies Data Preview\n",
            "+-------+--------------------+--------------------+\n",
            "|movieId|               title|              genres|\n",
            "+-------+--------------------+--------------------+\n",
            "|      1|    Toy Story (1995)|Adventure|Animati...|\n",
            "|      2|      Jumanji (1995)|Adventure|Childre...|\n",
            "|      3|Grumpier Old Men ...|      Comedy|Romance|\n",
            "|      4|Waiting to Exhale...|Comedy|Drama|Romance|\n",
            "|      5|Father of the Bri...|              Comedy|\n",
            "+-------+--------------------+--------------------+\n",
            "only showing top 5 rows\n",
            "\n",
            "__________________________________________________\n",
            "\n",
            "Ratings Data Preview\n",
            "+------+-------+------+---------+\n",
            "|userId|movieId|rating|timestamp|\n",
            "+------+-------+------+---------+\n",
            "|     1|     17|   4.0|944249077|\n",
            "|     1|     25|   1.0|944250228|\n",
            "|     1|     29|   2.0|943230976|\n",
            "|     1|     30|   5.0|944249077|\n",
            "|     1|     32|   5.0|943228858|\n",
            "+------+-------+------+---------+\n",
            "only showing top 5 rows\n",
            "\n"
          ]
        }
      ],
      "source": [
        "print(\"Movies Data Preview\")\n",
        "movies_df.show(5)\n",
        "print(\"_\"*50)\n",
        "print(\"\")\n",
        "print(\"Ratings Data Preview\")\n",
        "ratings_df.show(5)"
      ]
    },
    {
      "cell_type": "code",
      "execution_count": 6,
      "metadata": {
        "colab": {
          "base_uri": "https://localhost:8080/"
        },
        "id": "j37fo9dz9qHW",
        "outputId": "e20c3d37-eec5-4d71-b2ae-12fe7ac91218"
      },
      "outputs": [
        {
          "name": "stdout",
          "output_type": "stream",
          "text": [
            "Links Data Preview\n",
            "+-------+------+------+\n",
            "|movieId|imdbId|tmdbId|\n",
            "+-------+------+------+\n",
            "|      1|114709|   862|\n",
            "|      2|113497|  8844|\n",
            "|      3|113228| 15602|\n",
            "|      4|114885| 31357|\n",
            "|      5|113041| 11862|\n",
            "+-------+------+------+\n",
            "only showing top 5 rows\n",
            "\n"
          ]
        }
      ],
      "source": [
        "print(\"Links Data Preview\")\n",
        "links_df.show(5)"
      ]
    },
    {
      "cell_type": "code",
      "execution_count": 7,
      "metadata": {
        "colab": {
          "base_uri": "https://localhost:8080/"
        },
        "id": "NPpUQIO2bKMl",
        "outputId": "8eb0df61-bff2-472d-c243-9939b6198b74"
      },
      "outputs": [
        {
          "name": "stdout",
          "output_type": "stream",
          "text": [
            "Total Ratings: 693327\n",
            "Distinct Users: 4516\n",
            "Distinct Movies: 23744\n"
          ]
        }
      ],
      "source": [
        "print(\"Total Ratings:\", ratings_df.count())\n",
        "print(\"Distinct Users:\", ratings_df.select(\"userId\").distinct().count())\n",
        "print(\"Distinct Movies:\", ratings_df.select(\"movieId\").distinct().count())"
      ]
    },
    {
      "cell_type": "markdown",
      "metadata": {
        "id": "v_q8ruyObYx3"
      },
      "source": [
        "## Data Preparation"
      ]
    },
    {
      "cell_type": "code",
      "execution_count": 8,
      "metadata": {
        "id": "itSwLNE29qHX"
      },
      "outputs": [],
      "source": [
        "ratings_df = ratings_df.select(\"userId\", \"movieId\", \"rating\")"
      ]
    },
    {
      "cell_type": "code",
      "execution_count": null,
      "metadata": {
        "id": "1J4awhB5QLEI"
      },
      "outputs": [],
      "source": [
        "# Select relevant columns and split data into train/test sets (80/20 split)\n",
        "train, test = ratings_df.randomSplit([0.8, 0.2], seed=42)"
      ]
    },
    {
      "cell_type": "markdown",
      "metadata": {
        "id": "RWhATyOBbc9o"
      },
      "source": [
        "## ALS Model Training"
      ]
    },
    {
      "cell_type": "code",
      "execution_count": null,
      "metadata": {
        "id": "gMaZrMtWRooo"
      },
      "outputs": [],
      "source": [
        "# Configure ALS model with parameters\n",
        "als = ALS(maxIter=10, rank=20, regParam=0.05, userCol=\"userId\", itemCol=\"movieId\", ratingCol=\"rating\", coldStartStrategy=\"drop\", seed=42)"
      ]
    },
    {
      "cell_type": "code",
      "execution_count": null,
      "metadata": {
        "id": "fQUMO86vS2yw"
      },
      "outputs": [],
      "source": [
        "# Train the model\n",
        "model = als.fit(train)"
      ]
    },
    {
      "cell_type": "markdown",
      "metadata": {
        "id": "PWAMZmiUbhHM"
      },
      "source": [
        "##  Model Evaluation"
      ]
    },
    {
      "cell_type": "code",
      "execution_count": null,
      "metadata": {
        "id": "oeqcWi5zTXOB"
      },
      "outputs": [],
      "source": [
        "# Make predictions on test set\n",
        "pred = model.transform(test)"
      ]
    },
    {
      "cell_type": "code",
      "execution_count": 21,
      "metadata": {
        "colab": {
          "base_uri": "https://localhost:8080/"
        },
        "id": "voALL-SYTWvj",
        "outputId": "228dd1bd-386e-463d-df0b-95512d8e503a"
      },
      "outputs": [
        {
          "name": "stdout",
          "output_type": "stream",
          "text": [
            "+------+-------+------+----------+\n",
            "|userId|movieId|rating|prediction|\n",
            "+------+-------+------+----------+\n",
            "|   148|    260|   4.5| 3.2413452|\n",
            "|   148|    293|   3.5| 2.6870203|\n",
            "|   148|    333|   0.5|  1.403361|\n",
            "|   148|    541|   3.0| 2.8585865|\n",
            "|   148|    551|   0.5| 2.0270708|\n",
            "|   148|    588|   2.0| 1.0710027|\n",
            "|   148|    593|   3.5|  2.671454|\n",
            "|   148|    596|   1.0|0.80169785|\n",
            "|   148|    953|   0.5| 1.4076023|\n",
            "|   148|   1036|   4.0|  3.322714|\n",
            "+------+-------+------+----------+\n",
            "only showing top 10 rows\n",
            "\n"
          ]
        }
      ],
      "source": [
        "pred.show(10)"
      ]
    },
    {
      "cell_type": "code",
      "execution_count": null,
      "metadata": {
        "id": "UlCjymZtTdqf"
      },
      "outputs": [],
      "source": [
        "# Calculate RMSE (Root Mean Square Error)\n",
        "eval = RegressionEvaluator(metricName=\"rmse\", labelCol=\"rating\", predictionCol=\"prediction\")"
      ]
    },
    {
      "cell_type": "code",
      "execution_count": 23,
      "metadata": {
        "colab": {
          "base_uri": "https://localhost:8080/"
        },
        "id": "GvPN4OLxTeap",
        "outputId": "484cd028-f2a3-4c23-ea0e-81af5d373b39"
      },
      "outputs": [
        {
          "name": "stdout",
          "output_type": "stream",
          "text": [
            "Root-Mean-Square Error (RMSE): 0.8470\n"
          ]
        }
      ],
      "source": [
        "## RMSE describe our error in terms of the starts rating columns\n",
        "rmse = eval.evaluate(pred)\n",
        "print(f\"Root-Mean-Square Error (RMSE): {rmse:.4f}\")"
      ]
    },
    {
      "cell_type": "markdown",
      "metadata": {
        "id": "bJBRYyb3bvRq"
      },
      "source": [
        "## Generate Recommendations for a Specific User"
      ]
    },
    {
      "cell_type": "code",
      "execution_count": 24,
      "metadata": {
        "id": "n361FtVWUG4-"
      },
      "outputs": [],
      "source": [
        "user_1 = test.filter(test[\"userId\"] == 1).select([\"movieId\", \"userId\"])"
      ]
    },
    {
      "cell_type": "code",
      "execution_count": 25,
      "metadata": {
        "colab": {
          "base_uri": "https://localhost:8080/"
        },
        "id": "UN3jpNyDUqLl",
        "outputId": "f08129f0-9c8a-47e1-9bc2-7bff1416da8b"
      },
      "outputs": [
        {
          "name": "stdout",
          "output_type": "stream",
          "text": [
            "+-------+------+\n",
            "|movieId|userId|\n",
            "+-------+------+\n",
            "|     29|     1|\n",
            "|     36|     1|\n",
            "|    110|     1|\n",
            "|    223|     1|\n",
            "|    322|     1|\n",
            "+-------+------+\n",
            "only showing top 5 rows\n",
            "\n"
          ]
        }
      ],
      "source": [
        "user_1.show(5)"
      ]
    },
    {
      "cell_type": "code",
      "execution_count": 26,
      "metadata": {
        "colab": {
          "base_uri": "https://localhost:8080/"
        },
        "id": "xs5O9cHaU5_p",
        "outputId": "1984dd8e-9fc4-4e0e-e279-74ac07af7ebb"
      },
      "outputs": [
        {
          "name": "stdout",
          "output_type": "stream",
          "text": [
            "+-------+------+----------+\n",
            "|movieId|userId|prediction|\n",
            "+-------+------+----------+\n",
            "|    916|     1| 4.8636007|\n",
            "|    541|     1|  4.317715|\n",
            "|   1213|     1| 4.2170897|\n",
            "|   1178|     1| 3.9555745|\n",
            "|   1236|     1| 3.8863523|\n",
            "|   1120|     1| 3.6549542|\n",
            "|   1090|     1| 3.6440308|\n",
            "|   1094|     1|  3.570591|\n",
            "|   1199|     1| 3.5297937|\n",
            "|    322|     1|   3.48788|\n",
            "+-------+------+----------+\n",
            "only showing top 10 rows\n",
            "\n"
          ]
        }
      ],
      "source": [
        "# Recommendation\n",
        "rec = model.transform(user_1)\n",
        "rec.orderBy(\"prediction\", ascending=False).show(10)"
      ]
    },
    {
      "cell_type": "markdown",
      "metadata": {
        "id": "CbiLYfTLb5dx"
      },
      "source": [
        "## Generate Top 10 Recommendations for All Users"
      ]
    },
    {
      "cell_type": "code",
      "execution_count": 27,
      "metadata": {
        "colab": {
          "base_uri": "https://localhost:8080/"
        },
        "id": "_N-Vi1kXV92P",
        "outputId": "452a01e9-df3f-47a9-c216-bc6f1dfc201d"
      },
      "outputs": [
        {
          "name": "stdout",
          "output_type": "stream",
          "text": [
            "+------+------------------------------------------------------------------------------------------------------------------------------------------------------------------------------------------+\n",
            "|userId|recommendations                                                                                                                                                                           |\n",
            "+------+------------------------------------------------------------------------------------------------------------------------------------------------------------------------------------------+\n",
            "|1     |[{47465, 7.664309}, {142115, 7.148727}, {4819, 6.5788894}, {6269, 6.247139}, {2936, 6.2443223}, {2575, 6.156912}, {309, 6.0103717}, {86320, 6.0054}, {36276, 5.977084}, {7215, 5.8681264}]|\n",
            "+------+------------------------------------------------------------------------------------------------------------------------------------------------------------------------------------------+\n",
            "only showing top 1 row\n",
            "\n"
          ]
        }
      ],
      "source": [
        "# Recommend top 10 movies for a few users\n",
        "user_recs = model.recommendForAllUsers(10)\n",
        "\n",
        "# Show recommendations for one user\n",
        "user_recs.show(1, truncate=False)"
      ]
    },
    {
      "cell_type": "markdown",
      "metadata": {
        "id": "2VX4dzZJb93W"
      },
      "source": [
        "## Display Recommendations with Movie Titles"
      ]
    },
    {
      "cell_type": "code",
      "execution_count": 28,
      "metadata": {
        "colab": {
          "base_uri": "https://localhost:8080/"
        },
        "id": "EEbXfqHGWFV3",
        "outputId": "02664356-4ba2-4709-a12b-0fab54963986"
      },
      "outputs": [
        {
          "name": "stdout",
          "output_type": "stream",
          "text": [
            "+------+--------------------------------------------------------------+---------+---------------------------------------+\n",
            "|userId|title                                                         |rating   |tmdb_url                               |\n",
            "+------+--------------------------------------------------------------+---------+---------------------------------------+\n",
            "|1     |Tideland (2005)                                               |7.664309 |https://www.themoviedb.org/movie/11559 |\n",
            "|1     |The Blue Planet (2001)                                        |7.148727 |https://www.themoviedb.org/movie/200813|\n",
            "|1     |Go Figure (Va savoir) (2001)                                  |6.5788894|https://www.themoviedb.org/movie/55372 |\n",
            "|1     |Stevie (2002)                                                 |6.247139 |https://www.themoviedb.org/movie/51927 |\n",
            "|1     |Sullivan's Travels (1941)                                     |6.2443223|https://www.themoviedb.org/movie/16305 |\n",
            "|1     |Dreamlife of Angels, The (Vie rêvée des anges, La) (1998)     |6.156912 |https://www.themoviedb.org/movie/9840  |\n",
            "|1     |Red Firecracker, Green Firecracker (Pao Da Shuang Deng) (1994)|6.0103717|https://www.themoviedb.org/movie/159185|\n",
            "|1     |Melancholia (2011)                                            |6.0054   |https://www.themoviedb.org/movie/62215 |\n",
            "|1     |Hidden (a.k.a. Cache) (Caché) (2005)                          |5.977084 |https://www.themoviedb.org/movie/445   |\n",
            "|1     |To Have and Have Not (1944)                                   |5.8681264|https://www.themoviedb.org/movie/22584 |\n",
            "+------+--------------------------------------------------------------+---------+---------------------------------------+\n",
            "only showing top 10 rows\n",
            "\n"
          ]
        }
      ],
      "source": [
        "# Flatten the recommendations\n",
        "from pyspark.sql.functions import explode\n",
        "\n",
        "recs_flat = user_recs.select(\"userId\", explode(\"recommendations\").alias(\"rec\"))\n",
        "recs_flat = recs_flat.select(\"userId\", col(\"rec.movieId\"), col(\"rec.rating\"))\n",
        "recs_with_links = recs_flat.join(links_df, on=\"movieId\", how=\"left\")\n",
        "recs_with_urls = recs_with_links.withColumn(\"tmdb_url\", when(col(\"tmdbId\").isNotNull(),format_string(\"https://www.themoviedb.org/movie/%d\", col(\"tmdbId\").cast(\"int\"))))\n",
        "recs_with_titles = recs_with_urls.join(movies_df, on=\"movieId\", how=\"left\")\n",
        "recs_with_titles.select(\"userId\", \"title\", \"rating\", \"tmdb_url\").show(10, truncate=False)"
      ]
    },
    {
      "cell_type": "markdown",
      "metadata": {},
      "source": [
        "## Model Persistence"
      ]
    },
    {
      "cell_type": "code",
      "execution_count": null,
      "metadata": {
        "id": "qzIJLAkUGhee"
      },
      "outputs": [],
      "source": [
        "# Save model for future use\n",
        "model.save(\"/content/als_model\")"
      ]
    },
    {
      "cell_type": "markdown",
      "metadata": {},
      "source": [
        "## Load model and Test"
      ]
    },
    {
      "cell_type": "code",
      "execution_count": null,
      "metadata": {
        "id": "B4YxyRIxIiIB"
      },
      "outputs": [],
      "source": [
        "# Load model for use\n",
        "from pyspark.ml.recommendation import ALSModel\n",
        "\n",
        "alsmodel = ALSModel.load(\"/content/als_model\")"
      ]
    },
    {
      "cell_type": "code",
      "execution_count": 35,
      "metadata": {
        "colab": {
          "base_uri": "https://localhost:8080/"
        },
        "id": "lvXRfrqaI2cz",
        "outputId": "f52eeb02-f9a4-4e14-840b-43a232001ada"
      },
      "outputs": [
        {
          "name": "stdout",
          "output_type": "stream",
          "text": [
            "+------+----------------------------------------------------------------------------------------------------+\n",
            "|userId|recommendations                                                                                     |\n",
            "+------+----------------------------------------------------------------------------------------------------+\n",
            "|1     |[{47465, 7.664309}, {142115, 7.148727}, {4819, 6.5788894}, {6269, 6.247139}, {2936, 6.2443223}]     |\n",
            "|2     |[{4802, 6.5115914}, {1150, 5.9384995}, {192803, 5.9136086}, {2739, 5.885508}, {986, 5.836393}]      |\n",
            "|3     |[{26083, 5.279448}, {61406, 5.151223}, {80839, 5.1355705}, {71282, 5.09892}, {4184, 5.0110965}]     |\n",
            "|4     |[{8019, 5.2029705}, {7311, 5.097209}, {209173, 4.997402}, {89305, 4.9882855}, {142082, 4.9497085}]  |\n",
            "|5     |[{163072, 5.084265}, {77364, 4.8319287}, {101942, 4.735526}, {107953, 4.6873665}, {89554, 4.620346}]|\n",
            "+------+----------------------------------------------------------------------------------------------------+\n",
            "only showing top 5 rows\n",
            "\n"
          ]
        }
      ],
      "source": [
        "alsmodel.recommendForAllUsers(5).show(5, truncate=False)"
      ]
    },
    {
      "cell_type": "code",
      "execution_count": 37,
      "metadata": {
        "id": "yNAWBvtNUnOh"
      },
      "outputs": [],
      "source": [
        "spark.stop()"
      ]
    }
  ],
  "metadata": {
    "colab": {
      "provenance": []
    },
    "kernelspec": {
      "display_name": "Python 3",
      "name": "python3"
    },
    "language_info": {
      "codemirror_mode": {
        "name": "ipython",
        "version": 3
      },
      "file_extension": ".py",
      "mimetype": "text/x-python",
      "name": "python",
      "nbconvert_exporter": "python",
      "pygments_lexer": "ipython3",
      "version": "3.11.9"
    }
  },
  "nbformat": 4,
  "nbformat_minor": 0
}
